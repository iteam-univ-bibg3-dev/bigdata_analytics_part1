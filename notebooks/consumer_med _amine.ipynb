{
 "cells": [
  {
   "cell_type": "code",
   "execution_count": null,
   "id": "7357854a-14bb-400c-8c18-7eba3c517f50",
   "metadata": {},
   "outputs": [],
   "source": [
    "from confluent_kafka.admin import AdminClient, NewTopic\n",
    "TOPIC='fly-name'\n",
    "admin_client = AdminClient({\n",
    "    \"bootstrap.servers\": \"kafka1:19092,kafka2:19093,kafka3:19094\"\n",
    "})\n",
    "\n",
    "topic_list = [NewTopic(TOPIC, num_partitions=3, replication_factor=2)]\n",
    "fs = admin_client.create_topics(topic_list)\n",
    "\n",
    "for topic, f in fs.items():\n",
    "    try:\n",
    "        f.result()\n",
    "        print(f\"Topic {topic} créé avec succès ✅\")\n",
    "    except Exception as e:\n",
    "        print(f\"Erreur création topic {topic}: {e}\")"
   ]
  }
 ],
 "metadata": {
  "kernelspec": {
   "display_name": "Python 3 (ipykernel)",
   "language": "python",
   "name": "python3"
  },
  "language_info": {
   "codemirror_mode": {
    "name": "ipython",
    "version": 3
   },
   "file_extension": ".py",
   "mimetype": "text/x-python",
   "name": "python",
   "nbconvert_exporter": "python",
   "pygments_lexer": "ipython3",
   "version": "3.11.6"
  }
 },
 "nbformat": 4,
 "nbformat_minor": 5
}
