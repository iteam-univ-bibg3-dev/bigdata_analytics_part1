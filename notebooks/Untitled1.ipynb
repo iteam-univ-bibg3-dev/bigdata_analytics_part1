{
 "cells": [
  {
   "cell_type": "code",
   "execution_count": null,
   "id": "ed766483-7358-4d62-ace3-16098961c25b",
   "metadata": {},
   "outputs": [],
   "source": []
  }
 ],
 "metadata": {
  "kernelspec": {
   "display_name": "Python 3 (ipykernel)",
   "language": "python",
   "name": "python3"
  },
  "language_info": {
   "codemirror_mode": {
    "name": "ipython",
    "version": 3
   },
   "file_extension": ".py",
   "mimetype": "text/x-python",
   "name": "python",
   "nbconvert_exporter": "python",
   "pygments_lexer": "ipython3",
   "version": "3.11.6"
  }
 },
 "nbformat": 4,
 "nbformat_minor": 5
}
